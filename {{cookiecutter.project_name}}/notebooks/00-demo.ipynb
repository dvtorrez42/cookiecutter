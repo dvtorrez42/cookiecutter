{
 "cells": [
  {
   "attachments": {},
   "cell_type": "markdown",
   "id": "1030c9f8",
   "metadata": {},
   "source": [
    "Instalar el paquete local para poder usar módulos de `src`"
   ]
  },
  {
   "cell_type": "code",
   "execution_count": null,
   "id": "fd7c9711-5dbb-44ed-a30f-217a64683b18",
   "metadata": {},
   "outputs": [],
   "source": [
    "pip install -e .."
   ]
  },
  {
   "cell_type": "code",
   "execution_count": null,
   "id": "1519c55f",
   "metadata": {},
   "outputs": [],
   "source": [
    "# Para poder importar el módulo `src`\n",
    "import os\n",
    "import sys\n",
    "module_path = os.path.abspath(os.path.join('..'))\n",
    "if module_path not in sys.path:\n",
    "    sys.path.append(module_path)"
   ]
  },
  {
   "cell_type": "code",
   "execution_count": null,
   "id": "9dbaf6fd",
   "metadata": {},
   "outputs": [],
   "source": [
    "# Para que las funciones se actualicen si tener que refrescar el kernel\n",
    "%load_ext autoreload\n",
    "%autoreload 2"
   ]
  },
  {
   "cell_type": "code",
   "execution_count": null,
   "id": "e3438d04-54fc-4bfd-a396-485b5cbe1c0b",
   "metadata": {},
   "outputs": [],
   "source": [
    "from src.main import mi_funcion\n",
    "mi_funcion()"
   ]
  }
 ],
 "metadata": {
  "kernelspec": {
   "display_name": "Python 3 (ipykernel)",
   "language": "python",
   "name": "python3"
  },
  "language_info": {
   "codemirror_mode": {
    "name": "ipython",
    "version": 3
   },
   "file_extension": ".py",
   "mimetype": "text/x-python",
   "name": "python",
   "nbconvert_exporter": "python",
   "pygments_lexer": "ipython3",
   "version": "3.7.12"
  }
 },
 "nbformat": 4,
 "nbformat_minor": 5
}
